{
    "cells": [
        {
            "cell_type": "markdown",
            "metadata": {},
            "source": [
                "# play around with the COVID data\n",
                "\n",
                "This is test notebook\n",
                "the data is coming from here [source](https://data.nsw.gov.au/data/api/1/util/snippet/api_info.html?resource_id=2776dbb8-f807-4fb2-b1ed-184a6fc2c8aa)\n",
                "\n",
                "the new data set is [here](https://data.nsw.gov.au/data/api/1/util/snippet/api_info.html?resource_id=21304414-1ff1-4243-a5d2-f52778048b29)  added 2021-12-23 18:23:15\n",
                "\n",
                "should be refactored to use request instead of urllib"
            ]
        },
        {
            "cell_type": "code",
            "execution_count": 2,
            "metadata": {},
            "outputs": [
                {
                    "name": "stdout",
                    "output_type": "stream",
                    "text": [
                        "Hello World\n"
                    ]
                }
            ],
            "source": [
                "print(\"Hello World\")"
            ]
        },
        {
            "cell_type": "markdown",
            "metadata": {},
            "source": [
                "the following is an example how to query with the datastore query and using the request library"
            ]
        },
        {
            "cell_type": "markdown",
            "metadata": {},
            "source": [
                "the next one is querying the database via SQL returning JSON dataset and working with that JSON structure"
            ]
        },
        {
            "cell_type": "code",
            "execution_count": null,
            "metadata": {},
            "outputs": [],
            "source": [
                "import urllib\n",
                "import json\n",
                "\n",
                "sql = \"SELECT%20count(notification_date),%20notification_date%20from%20%2221304414-1ff1-4243-a5d2-f52778048b29%22%20WHERE%20postcode%20=%20%272021%27%20GROUP%20BY%20notification_date%20ORDER%20BY%20notification_date%20DESC\"\n",
                "base_url = \"https://data.nsw.gov.au/data/api/3/action/datastore_search_sql?sql=\"\n",
                "\n",
                "url = base_url + sql\n",
                "\n",
                "\n",
                "\n",
                "# print(url)\n",
                "\n",
                "fileobj = urllib.request.urlopen(url)\n",
                "\n",
                "data = fileobj.read()\n",
                "\n",
                "# print(data)\n",
                "\n",
                "dat = json.loads(data)\n",
                "\n",
                "# print(dat)\n",
                "result = dat['result']\n",
                "records = result['records']\n",
                "# print(json.dumps(result['records'], indent = 4, sort_keys=True))\n",
                "\n",
                "print(len(result['records']))\n",
                "\n",
                "for record in records:\n",
                "    foo = str(record)\n",
                "    # rather brute force mode to get the date and count \n",
                "    # not robust for counts larger than 9\n",
                "    foo = foo.replace(\"{'count':\",'')\n",
                "    foo = foo.replace(\" 'notification_date': '\",'')\n",
                "    foo = foo.replace(\"'}\",'')\n",
                "    print(foo)\n"
            ]
        }
    ],
    "metadata": {
        "interpreter": {
            "hash": "aee8b7b246df8f9039afb4144a1f6fd8d2ca17a180786b69acc140d282b71a49"
        },
        "kernelspec": {
            "display_name": "Python 3.9.7 64-bit",
            "name": "python3"
        },
        "language_info": {
            "codemirror_mode": {
                "name": "ipython",
                "version": 3
            },
            "file_extension": ".py",
            "mimetype": "text/x-python",
            "name": "python",
            "nbconvert_exporter": "python",
            "pygments_lexer": "ipython3",
            "version": "3.8.3"
        },
        "orig_nbformat": 4
    },
    "nbformat": 4,
    "nbformat_minor": 2
}
