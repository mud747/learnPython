{
    "cells": [
        {
            "cell_type": "markdown",
            "source": [
                "# play around with the COVID data\n",
                "\n",
                "This is test notebook\n",
                "the data is coming from here [source](https://data.nsw.gov.au/data/api/1/util/snippet/api_info.html?resource_id=2776dbb8-f807-4fb2-b1ed-184a6fc2c8aa)\n",
                "\n",
                "should be refactored to use request instead of urllib"
            ],
            "metadata": {}
        },
        {
            "cell_type": "code",
            "execution_count": null,
            "source": [
                "print(\"Hello World\")"
            ],
            "outputs": [],
            "metadata": {}
        },
        {
            "cell_type": "markdown",
            "source": [
                "the following is an example how to query with the datastore query and using the request library"
            ],
            "metadata": {}
        },
        {
            "cell_type": "code",
            "execution_count": 1,
            "source": [
                "import urllib\n",
                "import requests\n",
                "from urllib.parse import quote\n",
                "# TODO: better comments\n",
                "\n",
                "url_endpoint = \"https://data.nsw.gov.au/data/api/3/action/datastore_search\"\n",
                "\n",
                "resource_id = \"2776dbb8-f807-4fb2-b1ed-184a6fc2c8aa\"\n",
                "\n",
                "# payload = {'resource_id' : resource_id , 'limit' : 5}\n",
                "\n",
                "payload = {'resource_id' : resource_id , 'q' : '2020-07-29', 'fields' : 'postcode, notification_date', 'include_total' : 'True', 'limit' : 200}\n",
                "\n",
                "print(payload)\n",
                "\n",
                "resp = requests.get(url_endpoint, params=payload)\n",
                "\n",
                "print(resp.url) \n",
                "\n",
                "print(resp.text)\n",
                "\n"
            ],
            "outputs": [
                {
                    "output_type": "stream",
                    "name": "stdout",
                    "text": [
                        "{'resource_id': '2776dbb8-f807-4fb2-b1ed-184a6fc2c8aa', 'q': '2020-07-29', 'fields': 'postcode, notification_date', 'include_total': 'True', 'limit': 200}\n",
                        "https://data.nsw.gov.au/data/api/3/action/datastore_search?resource_id=2776dbb8-f807-4fb2-b1ed-184a6fc2c8aa&q=2020-07-29&fields=postcode%2C+notification_date&include_total=True&limit=200\n",
                        "{\"help\": \"https://data.nsw.gov.au/data/api/3/action/help_show?name=datastore_search\", \"success\": true, \"result\": {\"fields\": [{\"id\": \"postcode\", \"type\": \"text\"}, {\"id\": \"notification_date\", \"type\": \"text\"}], \"include_total\": true, \"limit\": 200, \"q\": \"2020-07-29\", \"records_format\": \"objects\", \"resource_id\": \"2776dbb8-f807-4fb2-b1ed-184a6fc2c8aa\", \"total_estimation_threshold\": null, \"records\": [{\"postcode\":\"2763\",\"notification_date\":\"2020-07-29\"},{\"postcode\":\"2096\",\"notification_date\":\"2020-07-29\"},{\"postcode\":\"2145\",\"notification_date\":\"2020-07-29\"},{\"postcode\":\"2177\",\"notification_date\":\"2020-07-29\"},{\"postcode\":\"2145\",\"notification_date\":\"2020-07-29\"},{\"postcode\":\"2176\",\"notification_date\":\"2020-07-29\"},{\"postcode\":\"2037\",\"notification_date\":\"2020-07-29\"},{\"postcode\":\"2170\",\"notification_date\":\"2020-07-29\"},{\"postcode\":\"2315\",\"notification_date\":\"2020-07-29\"},{\"postcode\":\"2168\",\"notification_date\":\"2020-07-29\"},{\"postcode\":null,\"notification_date\":\"2020-07-29\"},{\"postcode\":\"2177\",\"notification_date\":\"2020-07-29\"},{\"postcode\":\"2145\",\"notification_date\":\"2020-07-29\"},{\"postcode\":\"2145\",\"notification_date\":\"2020-07-29\"},{\"postcode\":\"2026\",\"notification_date\":\"2020-07-29\"}], \"_links\": {\"start\": \"/api/3/action/datastore_search?resource_id=2776dbb8-f807-4fb2-b1ed-184a6fc2c8aa&q=2020-07-29&fields=postcode%2C+notification_date&include_total=True&limit=200\", \"next\": \"/api/3/action/datastore_search?resource_id=2776dbb8-f807-4fb2-b1ed-184a6fc2c8aa&q=2020-07-29&fields=postcode%2C+notification_date&include_total=True&limit=200&offset=200\"}, \"total\": 15, \"total_was_estimated\": false}}\n"
                    ]
                }
            ],
            "metadata": {}
        },
        {
            "cell_type": "markdown",
            "source": [
                "the next one is querying the database via SQL returning JSON dataset and working with that JSON structure"
            ],
            "metadata": {}
        },
        {
            "cell_type": "code",
            "execution_count": 2,
            "source": [
                "import urllib\n",
                "import json\n",
                "\n",
                "sql = \"SELECT%20count(notification_date),%20notification_date%20from%20%222776dbb8-f807-4fb2-b1ed-184a6fc2c8aa%22%20WHERE%20postcode%20=%20%272021%27%20GROUP%20BY%20notification_date%20ORDER%20BY%20notification_date%20DESC\"\n",
                "base_url = \"https://data.nsw.gov.au/data/api/3/action/datastore_search_sql?sql=\"\n",
                "\n",
                "url = base_url + sql\n",
                "\n",
                "# print(url)\n",
                "\n",
                "fileobj = urllib.request.urlopen(url)\n",
                "\n",
                "data = fileobj.read()\n",
                "\n",
                "# print(data)\n",
                "\n",
                "dat = json.loads(data)\n",
                "\n",
                "# print(dat)\n",
                "result = dat['result']\n",
                "records = result['records']\n",
                "# print(json.dumps(result['records'], indent = 4, sort_keys=True))\n",
                "\n",
                "print(len(result['records']))\n",
                "\n",
                "for record in records:\n",
                "    print(record)\n"
            ],
            "outputs": [
                {
                    "output_type": "stream",
                    "name": "stdout",
                    "text": [
                        "20\n",
                        "{'count': 1, 'notification_date': '2021-07-15'}\n",
                        "{'count': 2, 'notification_date': '2021-07-11'}\n",
                        "{'count': 1, 'notification_date': '2021-07-09'}\n",
                        "{'count': 1, 'notification_date': '2021-06-23'}\n",
                        "{'count': 1, 'notification_date': '2020-12-30'}\n",
                        "{'count': 2, 'notification_date': '2020-12-26'}\n",
                        "{'count': 1, 'notification_date': '2020-12-20'}\n",
                        "{'count': 1, 'notification_date': '2020-12-17'}\n",
                        "{'count': 1, 'notification_date': '2020-11-28'}\n",
                        "{'count': 1, 'notification_date': '2020-07-19'}\n",
                        "{'count': 3, 'notification_date': '2020-03-30'}\n",
                        "{'count': 1, 'notification_date': '2020-03-27'}\n",
                        "{'count': 1, 'notification_date': '2020-03-26'}\n",
                        "{'count': 5, 'notification_date': '2020-03-25'}\n",
                        "{'count': 4, 'notification_date': '2020-03-23'}\n",
                        "{'count': 3, 'notification_date': '2020-03-20'}\n",
                        "{'count': 2, 'notification_date': '2020-03-19'}\n",
                        "{'count': 2, 'notification_date': '2020-03-18'}\n",
                        "{'count': 1, 'notification_date': '2020-03-17'}\n",
                        "{'count': 1, 'notification_date': '2020-03-13'}\n"
                    ]
                }
            ],
            "metadata": {}
        },
        {
            "cell_type": "markdown",
            "source": [
                "this ends"
            ],
            "metadata": {}
        }
    ],
    "metadata": {
        "orig_nbformat": 4,
        "language_info": {
            "name": "python",
            "version": "3.9.6",
            "mimetype": "text/x-python",
            "codemirror_mode": {
                "name": "ipython",
                "version": 3
            },
            "pygments_lexer": "ipython3",
            "nbconvert_exporter": "python",
            "file_extension": ".py"
        },
        "kernelspec": {
            "name": "python3",
            "display_name": "Python 3.9.6 64-bit"
        },
        "interpreter": {
            "hash": "aee8b7b246df8f9039afb4144a1f6fd8d2ca17a180786b69acc140d282b71a49"
        }
    },
    "nbformat": 4,
    "nbformat_minor": 2
}