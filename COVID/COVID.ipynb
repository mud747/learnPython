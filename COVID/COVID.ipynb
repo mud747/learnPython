{
    "cells": [
        {
            "cell_type": "markdown",
            "metadata": {},
            "source": [
                "# play around with the COVID data\n",
                "\n",
                "This is test notebook\n",
                "the data is coming from here [source](https://data.nsw.gov.au/data/api/1/util/snippet/api_info.html?resource_id=2776dbb8-f807-4fb2-b1ed-184a6fc2c8aa)\n",
                "\n",
                "the new data set is [here](https://data.nsw.gov.au/data/api/1/util/snippet/api_info.html?resource_id=21304414-1ff1-4243-a5d2-f52778048b29)  added 2021-12-23 18:23:15\n",
                "\n",
                "should be refactored to use request instead of urllib"
            ]
        },
        {
            "cell_type": "code",
            "execution_count": null,
            "metadata": {},
            "outputs": [],
            "source": [
                "print(\"Hello World\")"
            ]
        },
        {
            "cell_type": "markdown",
            "metadata": {},
            "source": [
                "the following is an example how to query with the datastore query and using the request library"
            ]
        },
        {
            "cell_type": "markdown",
            "metadata": {},
            "source": [
                "the next one is querying the database via SQL returning JSON dataset and working with that JSON structure"
            ]
        },
        {
            "cell_type": "code",
            "execution_count": 2,
            "metadata": {},
            "outputs": [
                {
                    "name": "stdout",
                    "output_type": "stream",
                    "text": [
                        "93\n",
                        " 22,2021-12-23\n",
                        " 28,2021-12-22\n",
                        " 18,2021-12-21\n",
                        " 13,2021-12-20\n",
                        " 8,2021-12-19\n",
                        " 9,2021-12-18\n",
                        " 13,2021-12-17\n",
                        " 10,2021-12-16\n",
                        " 5,2021-12-15\n",
                        " 7,2021-12-14\n",
                        " 1,2021-12-12\n",
                        " 2,2021-12-11\n",
                        " 3,2021-12-10\n",
                        " 2,2021-12-09\n",
                        " 4,2021-12-08\n",
                        " 2,2021-12-07\n",
                        " 1,2021-12-06\n",
                        " 2,2021-12-04\n",
                        " 2,2021-12-03\n",
                        " 2,2021-12-02\n",
                        " 1,2021-11-27\n",
                        " 2,2021-11-26\n",
                        " 2,2021-11-25\n",
                        " 2,2021-11-24\n",
                        " 1,2021-11-23\n",
                        " 1,2021-11-14\n",
                        " 1,2021-11-12\n",
                        " 1,2021-11-11\n",
                        " 2,2021-11-10\n",
                        " 3,2021-11-09\n",
                        " 1,2021-11-07\n",
                        " 2,2021-11-06\n",
                        " 2,2021-11-04\n",
                        " 1,2021-11-03\n",
                        " 2,2021-10-27\n",
                        " 1,2021-10-24\n",
                        " 1,2021-10-16\n",
                        " 1,2021-10-08\n",
                        " 1,2021-10-06\n",
                        " 1,2021-10-03\n",
                        " 1,2021-10-01\n",
                        " 1,2021-09-30\n",
                        " 2,2021-09-29\n",
                        " 1,2021-09-28\n",
                        " 1,2021-09-27\n",
                        " 2,2021-09-26\n",
                        " 1,2021-09-25\n",
                        " 1,2021-09-24\n",
                        " 1,2021-09-23\n",
                        " 2,2021-09-22\n",
                        " 2,2021-09-21\n",
                        " 4,2021-09-20\n",
                        " 1,2021-09-19\n",
                        " 3,2021-09-18\n",
                        " 2,2021-09-17\n",
                        " 2,2021-09-16\n",
                        " 2,2021-09-14\n",
                        " 2,2021-09-13\n",
                        " 1,2021-09-12\n",
                        " 5,2021-09-11\n",
                        " 3,2021-09-10\n",
                        " 3,2021-09-09\n",
                        " 1,2021-09-08\n",
                        " 1,2021-09-06\n",
                        " 1,2021-09-05\n",
                        " 2,2021-09-04\n",
                        " 1,2021-09-03\n",
                        " 1,2021-09-02\n",
                        " 1,2021-08-28\n",
                        " 1,2021-08-27\n",
                        " 1,2021-08-26\n",
                        " 2,2021-08-25\n",
                        " 1,2021-08-23\n",
                        " 1,2021-07-15\n",
                        " 2,2021-07-11\n",
                        " 1,2021-07-09\n",
                        " 1,2021-06-23\n",
                        " 1,2020-12-30\n",
                        " 2,2020-12-26\n",
                        " 1,2020-12-20\n",
                        " 1,2020-12-17\n",
                        " 1,2020-11-28\n",
                        " 1,2020-07-19\n",
                        " 3,2020-03-30\n",
                        " 1,2020-03-27\n",
                        " 1,2020-03-26\n",
                        " 5,2020-03-25\n",
                        " 4,2020-03-23\n",
                        " 3,2020-03-20\n",
                        " 2,2020-03-19\n",
                        " 2,2020-03-18\n",
                        " 1,2020-03-17\n",
                        " 1,2020-03-13\n"
                    ]
                }
            ],
            "source": [
                "import urllib\n",
                "import json\n",
                "\n",
                "sql = \"SELECT%20count(notification_date),%20notification_date%20from%20%2221304414-1ff1-4243-a5d2-f52778048b29%22%20WHERE%20postcode%20=%20%272021%27%20GROUP%20BY%20notification_date%20ORDER%20BY%20notification_date%20DESC\"\n",
                "base_url = \"https://data.nsw.gov.au/data/api/3/action/datastore_search_sql?sql=\"\n",
                "\n",
                "url = base_url + sql\n",
                "\n",
                "\n",
                "\n",
                "# print(url)\n",
                "\n",
                "fileobj = urllib.request.urlopen(url)\n",
                "\n",
                "data = fileobj.read()\n",
                "\n",
                "# print(data)\n",
                "\n",
                "dat = json.loads(data)\n",
                "\n",
                "# print(dat)\n",
                "result = dat['result']\n",
                "records = result['records']\n",
                "# print(json.dumps(result['records'], indent = 4, sort_keys=True))\n",
                "\n",
                "print(len(result['records']))\n",
                "\n",
                "for record in records:\n",
                "    foo = str(record)\n",
                "    # rather brute force mode to get the date and count \n",
                "    # not robust for counts larger than 9\n",
                "    foo = foo.replace(\"{'count':\",'')\n",
                "    foo = foo.replace(\" 'notification_date': '\",'')\n",
                "    foo = foo.replace(\"'}\",'')\n",
                "    print(foo)\n"
            ]
        },
        {
            "cell_type": "markdown",
            "metadata": {},
            "source": [
                "this ends"
            ]
        },
        {
            "cell_type": "code",
            "execution_count": null,
            "metadata": {},
            "outputs": [],
            "source": [
                "first_name = \"Emil\"\n",
                "print(\"Bananas\"+\" amount=21\")\n",
                "\n",
                "lenght = len(first_name)\n",
                "\n",
                "print(\"Hello \" + first_name[1] + \" lenght = \"  + str(lenght))\n"
            ]
        }
    ],
    "metadata": {
        "interpreter": {
            "hash": "aee8b7b246df8f9039afb4144a1f6fd8d2ca17a180786b69acc140d282b71a49"
        },
        "kernelspec": {
            "display_name": "Python 3.9.7 64-bit",
            "name": "python3"
        },
        "language_info": {
            "codemirror_mode": {
                "name": "ipython",
                "version": 3
            },
            "file_extension": ".py",
            "mimetype": "text/x-python",
            "name": "python",
            "nbconvert_exporter": "python",
            "pygments_lexer": "ipython3",
            "version": "3.9.9"
        },
        "orig_nbformat": 4
    },
    "nbformat": 4,
    "nbformat_minor": 2
}
